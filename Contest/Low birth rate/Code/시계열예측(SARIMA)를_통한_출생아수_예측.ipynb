{
  "nbformat": 4,
  "nbformat_minor": 0,
  "metadata": {
    "colab": {
      "provenance": [],
      "collapsed_sections": [
        "Hljdh4dq9BgU",
        "v99YYB_k-UXQ",
        "5cZAjYd--3T1",
        "w7OCWVQn-73e",
        "bMH5d2S6BKOg",
        "cpxMmnIz9XSl"
      ]
    },
    "kernelspec": {
      "name": "python3",
      "display_name": "Python 3"
    },
    "language_info": {
      "name": "python"
    }
  },
  "cells": [
    {
      "cell_type": "code",
      "execution_count": null,
      "metadata": {
        "colab": {
          "base_uri": "https://localhost:8080/"
        },
        "id": "-xqhA9MR8yxP",
        "outputId": "33475e45-c70f-4a9d-a06c-57c36c3a1373"
      },
      "outputs": [
        {
          "output_type": "stream",
          "name": "stdout",
          "text": [
            "Mounted at /content/drive\n"
          ]
        }
      ],
      "source": [
        "from google.colab import drive\n",
        "drive.mount('/content/drive')"
      ]
    },
    {
      "cell_type": "markdown",
      "source": [
        "## **기타 세팅**"
      ],
      "metadata": {
        "id": "aXZbN1Un-DOO"
      }
    },
    {
      "cell_type": "markdown",
      "source": [
        "- 모듈 불러오기"
      ],
      "metadata": {
        "id": "qoD63SrW9j-p"
      }
    },
    {
      "cell_type": "code",
      "source": [
        "import pandas as pd\n",
        "import numpy as np\n",
        "from statsmodels.tsa.statespace.sarimax import SARIMAX\n",
        "import matplotlib.pyplot as plt\n",
        "import matplotlib.font_manager as fm\n",
        "from statsmodels.tsa.stattools import kpss\n",
        "from statsmodels.tsa.seasonal import seasonal_decompose\n",
        "import itertools\n",
        "from statsmodels.tsa.arima.model import ARIMA\n",
        "from statsmodels.stats.weightstats import ztest\n",
        "import statsmodels.api as sm\n",
        "import statsmodels.tsa.api as tsa"
      ],
      "metadata": {
        "id": "vqvEua6h9mqp"
      },
      "execution_count": null,
      "outputs": []
    },
    {
      "cell_type": "markdown",
      "source": [
        "- 한국어 폰트 다운"
      ],
      "metadata": {
        "id": "te39CicD92qy"
      }
    },
    {
      "cell_type": "code",
      "source": [
        "!apt-get update -qq         # apt-get 패키지 설치 명령어, -qq : 에러외 메세지 숨기기\n",
        "!apt-get install fonts-nanum* -qq #나눔글꼴 설치\n",
        "\n",
        "fe = fm.FontEntry(fname=r'/usr/share/fonts/truetype/nanum/NanumGothic.ttf', name='NanumGothic') #파일 저장되어있는 경로와 이름 설정\n",
        "fm.fontManager.ttflist.insert(0, fe)  # Matplotlib에 폰트 추가\n",
        "plt.rcParams.update({'font.size': 8, 'font.family': 'NanumGothic'})"
      ],
      "metadata": {
        "id": "U85XsHIg93_8"
      },
      "execution_count": null,
      "outputs": []
    },
    {
      "cell_type": "markdown",
      "source": [
        "# **데이터 전처리**"
      ],
      "metadata": {
        "id": "Hljdh4dq9BgU"
      }
    },
    {
      "cell_type": "code",
      "source": [
        "pip install pandas_datareader"
      ],
      "metadata": {
        "id": "LtKZ0aix9A5y"
      },
      "execution_count": null,
      "outputs": []
    },
    {
      "cell_type": "code",
      "source": [
        "import pandas as pd\n",
        "import pandas_datareader as pdr\n",
        "\n",
        "all = pd.read_csv('/content/drive/MyDrive/공모전 2024/예측모델/출생, 사망, 혼인, 이혼 월별.csv', encoding='cp949')\n",
        "all['Unnamed: 2'] = all['Unnamed: 2'].str.replace('월', ' ')\n",
        "\n",
        "baby = all[(all['Unnamed: 1']=='출생아수(명)') & (all['○ 월.분기.연간 인구동향(출생,사망,혼인,이혼) [명, 건]']=='전국')]\n",
        "baby = baby[['Unnamed: 2', 'Unnamed: 3']]\n",
        "baby = baby.rename(columns={'Unnamed: 2':'시점', 'Unnamed: 3':'출생아수'})\n",
        "baby.drop(baby.index[0:228], axis=0, inplace=True)\n",
        "baby['출생아수'] = baby['출생아수'].astype(int)\n",
        "\n",
        "# 날짜로 지정\n",
        "baby['시점'] = baby['시점'].str.replace('.', '-')\n",
        "baby['시점'] = baby['시점'].str.strip()\n",
        "baby['시점'] = pd.to_datetime(baby['시점'], format='%Y-%m')\n",
        "\n",
        "baby.set_index('시점', inplace = True)"
      ],
      "metadata": {
        "id": "i4pYpM9P9HQw",
        "colab": {
          "base_uri": "https://localhost:8080/"
        },
        "outputId": "304cd345-f3a6-47c5-870a-ddbf21092ab3"
      },
      "execution_count": null,
      "outputs": [
        {
          "output_type": "stream",
          "name": "stderr",
          "text": [
            "<ipython-input-119-86455025d8e4>:14: FutureWarning: The default value of regex will change from True to False in a future version. In addition, single character regular expressions will *not* be treated as literal strings when regex=True.\n",
            "  baby['시점'] = baby['시점'].str.replace('.', '-')\n"
          ]
        }
      ]
    },
    {
      "cell_type": "markdown",
      "source": [
        "# **데이터 정상성 확인**"
      ],
      "metadata": {
        "id": "v99YYB_k-UXQ"
      }
    },
    {
      "cell_type": "markdown",
      "source": [
        "### **데이터 정상성 확인(baby)**"
      ],
      "metadata": {
        "id": "5cZAjYd--3T1"
      }
    },
    {
      "cell_type": "code",
      "source": [
        "baby.plot(figsize=[12, 8])\n",
        "\n",
        "plt.show()  # -> 이 그래프는 등분산성 만족하지 않고 추세가 있으므로 비정상시계열임."
      ],
      "metadata": {
        "id": "yQ_QqzPP_-Pv"
      },
      "execution_count": null,
      "outputs": []
    },
    {
      "cell_type": "code",
      "source": [
        "# 더 정확하기 보기\n",
        "result = seasonal_decompose(baby['출생아수'],\n",
        "                            model = 'additive',\n",
        "                            period = 20)\n",
        "\n",
        "fig = plt.figure()\n",
        "fig = result.plot()\n",
        "fig.set_size_inches(10,10)"
      ],
      "metadata": {
        "id": "fXJFXGsz_VAy"
      },
      "execution_count": null,
      "outputs": []
    },
    {
      "cell_type": "code",
      "source": [
        "# 정상성 확인 시스템\n",
        "def kpss_test(timeseries):\n",
        "    print(\"Results of KPSS Test:\")\n",
        "    kpsstest = kpss(timeseries, regression=\"c\", nlags=\"auto\")\n",
        "    kpss_output = pd.Series(\n",
        "        kpsstest[0:3], index=[\"Test Statistic\", \"p-value\", \"Lags Used\"] )\n",
        "\n",
        "    for key, value in kpsstest[3].items():\n",
        "        kpss_output[\"Critical Value (%s)\" % key] = value\n",
        "    print(kpss_output)\n",
        "\n",
        "\n",
        "## 귀무가설 (H0): 정상 시계열이다\n",
        "## 대립가설 (H1): 정상 시계열이 아니다 <-- p-value 0.01"
      ],
      "metadata": {
        "id": "FchWgCAo-XYf"
      },
      "execution_count": null,
      "outputs": []
    },
    {
      "cell_type": "code",
      "source": [
        "kpss_test(baby)  # <-- p-value 0.01이므로 대립가설을 채택함"
      ],
      "metadata": {
        "id": "XPr2AYFJ-mML",
        "colab": {
          "base_uri": "https://localhost:8080/"
        },
        "outputId": "28ef079c-1b98-4523-a8bc-b2235d65945f"
      },
      "execution_count": 121,
      "outputs": [
        {
          "output_type": "stream",
          "name": "stdout",
          "text": [
            "Results of KPSS Test:\n",
            "Test Statistic            2.105707\n",
            "p-value                   0.010000\n",
            "Lags Used                10.000000\n",
            "Critical Value (10%)      0.347000\n",
            "Critical Value (5%)       0.463000\n",
            "Critical Value (2.5%)     0.574000\n",
            "Critical Value (1%)       0.739000\n",
            "dtype: float64\n"
          ]
        },
        {
          "output_type": "stream",
          "name": "stderr",
          "text": [
            "<ipython-input-14-e49967f03bb4>:4: InterpolationWarning: The test statistic is outside of the range of p-values available in the\n",
            "look-up table. The actual p-value is smaller than the p-value returned.\n",
            "\n",
            "  kpsstest = kpss(timeseries, regression=\"c\", nlags=\"auto\")\n"
          ]
        }
      ]
    },
    {
      "cell_type": "markdown",
      "source": [
        "### **데이터 로그변환 후 정상성 확인(baby_log)**"
      ],
      "metadata": {
        "id": "w7OCWVQn-73e"
      }
    },
    {
      "cell_type": "code",
      "source": [
        "baby_log = np.log(baby)"
      ],
      "metadata": {
        "id": "YiUQG-oo_AHQ"
      },
      "execution_count": null,
      "outputs": []
    },
    {
      "cell_type": "code",
      "source": [
        "baby_log.plot(figsize=[12, 8])\n",
        "\n",
        "plt.show()  # -> 이 그래프는 등분산성을 만족하지만, 추세가 있으므로 비정상시계열임."
      ],
      "metadata": {
        "id": "lcBAVeRdALuF"
      },
      "execution_count": null,
      "outputs": []
    },
    {
      "cell_type": "code",
      "source": [
        "# 더 정확하기 보기\n",
        "result = seasonal_decompose(baby_log['출생아수'],\n",
        "                            model = 'additive',\n",
        "                            period = 20)\n",
        "\n",
        "fig = plt.figure()\n",
        "fig = result.plot()\n",
        "fig.set_size_inches(10,10)"
      ],
      "metadata": {
        "id": "nCaucp-9_lgY"
      },
      "execution_count": null,
      "outputs": []
    },
    {
      "cell_type": "code",
      "source": [
        "kpss_test(baby_log)  # p-value가 0.01이므로 비정상 시계열임 -> 차분 필요"
      ],
      "metadata": {
        "id": "rDCeuCXd_IO2"
      },
      "execution_count": null,
      "outputs": []
    },
    {
      "cell_type": "markdown",
      "source": [
        "### **로그변화 데이터 차분 후 정상성 확인(baby_diff)**"
      ],
      "metadata": {
        "id": "bMH5d2S6BKOg"
      }
    },
    {
      "cell_type": "code",
      "source": [
        "baby_diff = baby_log.diff(1).dropna()\n",
        "\n",
        "baby_diff.plot(figsize=(12, 8))\n",
        "plt.title(\"De-trend by 1st order Differencing\", fontsize=16)\n",
        "plt.show()  # -> 추세 제거됨"
      ],
      "metadata": {
        "id": "7WkUfhcwBJO-"
      },
      "execution_count": null,
      "outputs": []
    },
    {
      "cell_type": "code",
      "source": [
        "kpss_test(baby_diff) # p-value가 0.05보다 크므로 정상 시계열 -> 원데이터에서 로그변환 후 차분을 하면 정상성 시계열이 됨."
      ],
      "metadata": {
        "id": "dztSQlWqBjv9"
      },
      "execution_count": null,
      "outputs": []
    },
    {
      "cell_type": "markdown",
      "source": [
        "# **훈련용/검정용 데이터 나누기 (train, test)**"
      ],
      "metadata": {
        "id": "cpxMmnIz9XSl"
      }
    },
    {
      "cell_type": "code",
      "source": [
        "plt.figure(figsize = (10,5))\n",
        "train = baby['출생아수'][:int(0.8*len(baby))]\n",
        "test = baby['출생아수'][int(0.8*len(baby)):]    # 훈련 데이터는 2018년 5월 전까지 검증용 데이터는 2018년 5월부터 2022년 12월까지\n",
        "train.plot()\n",
        "test.plot()"
      ],
      "metadata": {
        "id": "_f2TqLmW9eUY"
      },
      "execution_count": null,
      "outputs": []
    },
    {
      "cell_type": "code",
      "source": [
        "plt.figure(figsize = (10,5))\n",
        "train = baby_log['출생아수'][:int(0.8*len(baby))]\n",
        "test = baby_log['출생아수'][int(0.8*len(baby)):]\n",
        "train.plot()\n",
        "test.plot()"
      ],
      "metadata": {
        "id": "xxRGlKns9zmE"
      },
      "execution_count": null,
      "outputs": []
    },
    {
      "cell_type": "markdown",
      "source": [
        "# **시계열 예측모델 수립**"
      ],
      "metadata": {
        "id": "wMgqg-UhCrGc"
      }
    },
    {
      "cell_type": "markdown",
      "source": [
        "**최적의 시계열 모델 수립하기 > SARIMAX(1, 1, 1)x(1, 0, 1, 12)**"
      ],
      "metadata": {
        "id": "D7UsNOwWDBD2"
      }
    },
    {
      "cell_type": "code",
      "source": [
        "# 최적 파라미터 서치\n",
        "\n",
        "p = range(0, 2)\n",
        "d = range(1, 3)\n",
        "q = range(0, 2)\n",
        "pdq = list(itertools.product(p, d, q))\n",
        "\n",
        "AIC = []\n",
        "for i in pdq :\n",
        "    model = ARIMA(train.values, order=(i))\n",
        "    model_fit = model.fit()\n",
        "    print(f'ARIMA pdq : {i} >> AIC : {round(model_fit.aic, 2)}')\n",
        "    AIC.append(round(model_fit.aic, 2))"
      ],
      "metadata": {
        "id": "6Q2wndcACxQp"
      },
      "execution_count": null,
      "outputs": []
    },
    {
      "cell_type": "code",
      "source": [
        "# optimal paramter > [((0, 1, 1), -490.72)]\n",
        "optim = [(pdq[i], j) for i, j in enumerate(AIC) if j == min(AIC)]\n",
        "print('Found Optimal Parameter :',optim)"
      ],
      "metadata": {
        "id": "UpOwWpmtD088"
      },
      "execution_count": null,
      "outputs": []
    },
    {
      "cell_type": "code",
      "source": [
        "model = ARIMA(train.values, order=(0, 1, 1))\n",
        "model_fit = model.fit()\n",
        "model_fit.summary()"
      ],
      "metadata": {
        "id": "pBA-WiyqD9N0"
      },
      "execution_count": null,
      "outputs": []
    },
    {
      "cell_type": "markdown",
      "source": [
        "Ljung-Box (Q):  \n",
        "p-값이 0.05보다 크면 자기상관이 없다. (H0: 자기상관이 없음)\n",
        "\n",
        "Jarque-Bera (JB):  \n",
        "p-값이 0.05보다 크면 정규분포를 따름 (H0: 정규성을 따름)\n",
        "\n",
        "Heteroskedasticity (H):  \n",
        "p-값이 0.05보다 크면 잔차의 변동성이 크지 않음 (불규칙성X, H0: 불규칙X)"
      ],
      "metadata": {
        "id": "YKauAFRQEq6H"
      }
    },
    {
      "cell_type": "code",
      "source": [
        "mod = tsa.statespace.SARIMAX(train,order=(1, 1, 1),seasonal_order=(1, 0, 1, 12),\n",
        "                              enforce_stationarity=False, enforce_invertibility=False)\n",
        "mod_fit = mod.fit()\n",
        "print(mod_fit.summary())"
      ],
      "metadata": {
        "id": "RnR569lEFktX"
      },
      "execution_count": null,
      "outputs": []
    },
    {
      "cell_type": "code",
      "source": [
        "mod_fit.plot_diagnostics(figsize=(16, 8))\n",
        "plt.show()"
      ],
      "metadata": {
        "id": "_Qw3aMLGGArY"
      },
      "execution_count": null,
      "outputs": []
    },
    {
      "cell_type": "markdown",
      "source": [
        "# **검증용 데이터를 활용하여 모델의 정확도 확인**"
      ],
      "metadata": {
        "id": "__hO8DprGFgv"
      }
    },
    {
      "cell_type": "markdown",
      "source": [
        "predicted_values : 테스트 데이터 예측값  \n",
        "confidence_intervals : 신뢰구간"
      ],
      "metadata": {
        "id": "a9xMWJPyGdxc"
      }
    },
    {
      "cell_type": "code",
      "source": [
        "# 테스트 데이터에 대한 예측 수행\n",
        "forecast_steps = len(test)  # 테스트 데이터 크기에 맞게 조절하세요\n",
        "forecast = mod_fit.get_forecast(steps=forecast_steps)\n",
        "\n",
        "# 예측된 값과 신뢰 구간 얻기\n",
        "predicted_values = forecast.predicted_mean\n",
        "confidence_intervals = forecast.conf_int()\n",
        "\n",
        "# 예측된 값과 신뢰 구간을 출력하거나 필요에 따라 사용하세요\n",
        "print(\"테스트 데이터에 대한 예측 값:\")\n",
        "print(predicted_values)\n",
        "print(\"\\n테스트 데이터에 대한 신뢰 구간:\")\n",
        "print(confidence_intervals)"
      ],
      "metadata": {
        "id": "1DH0QCdyGPFG"
      },
      "execution_count": null,
      "outputs": []
    },
    {
      "cell_type": "code",
      "source": [
        "# 로그 변환 해제\n",
        "original_predicted_values = np.exp(predicted_values)\n",
        "original_train = np.exp(train)\n",
        "original_test = np.exp(test)\n",
        "original_confidence_intervals = np.exp(confidence_intervals)"
      ],
      "metadata": {
        "id": "3qaZ3RbhGnv0"
      },
      "execution_count": null,
      "outputs": []
    },
    {
      "cell_type": "code",
      "source": [
        "original_confidence_intervals"
      ],
      "metadata": {
        "id": "LHAaiDBTHP8d"
      },
      "execution_count": null,
      "outputs": []
    },
    {
      "cell_type": "code",
      "source": [
        "y_predict = pd.DataFrame(original_predicted_values)\n",
        "y_predict = y_predict.rename(columns={'predicted_mean':'test_출생아수'})\n",
        "y_predict\n",
        "\n",
        "# 그래프\n",
        "fig, axes = plt.subplots(1, 1, figsize=(12, 4))\n",
        "plt.plot(original_train, label='Train')        # 훈련 데이터\n",
        "plt.plot(original_test, label='Test')          # 테스트 데이터\n",
        "plt.plot(y_predict, label='Prediction')  # 예측 데이터\n",
        "plt.fill_between(y_predict.index,\n",
        "                 original_confidence_intervals['lower 출생아수'],\n",
        "                 original_confidence_intervals['upper 출생아수'],\n",
        "                 color='blue', alpha=0.2, label='95% Confidence Interval')\n",
        "plt.legend()\n",
        "plt.show()"
      ],
      "metadata": {
        "id": "8qestN9eGsJ9"
      },
      "execution_count": null,
      "outputs": []
    },
    {
      "cell_type": "code",
      "source": [
        "y_forecasted = pd.Series(y_predict['test_출생아수']['2018-05-01':])  # 예측된 평균값\n",
        "y_truth = pd.Series(baby['출생아수']['2018-05-01':]) # 실제 값 중 '2020-01' 이후의 부분\n",
        "mse = ((y_forecasted - y_truth) ** 2).mean()  # MSE:예측값과 실제값의 차이 제곱\n",
        "print('MSE {}'.format(round(mse, 2)))"
      ],
      "metadata": {
        "colab": {
          "base_uri": "https://localhost:8080/"
        },
        "id": "5nwNVUfPH_kw",
        "outputId": "fdb8cdb9-9d05-42a1-be23-d7fbb5016f5e"
      },
      "execution_count": null,
      "outputs": [
        {
          "output_type": "stream",
          "name": "stdout",
          "text": [
            "MSE 621155.37\n"
          ]
        }
      ]
    },
    {
      "cell_type": "markdown",
      "source": [
        "- 로그변환 데이터 예측 MSE"
      ],
      "metadata": {
        "id": "b4M7EGztI_CF"
      }
    },
    {
      "cell_type": "code",
      "source": [
        "y_forecasted = pd.Series(pd.DataFrame(predicted_values)['predicted_mean']['2018-05-01':])  # 예측된 평균값\n",
        "y_truth = pd.Series(baby_log['출생아수']['2018-05-01':]) # 실제 값 중 '2020-01' 이후의 부분\n",
        "mse = ((y_forecasted - y_truth) ** 2).mean()  # MSE:예측값과 실제값의 차이 제곱\n",
        "print('MSE {}'.format(round(mse, 9)))"
      ],
      "metadata": {
        "colab": {
          "base_uri": "https://localhost:8080/"
        },
        "id": "11FR1SeuIZLE",
        "outputId": "eb6988c8-e421-465f-8076-c2fc648af1f8"
      },
      "execution_count": null,
      "outputs": [
        {
          "output_type": "stream",
          "name": "stdout",
          "text": [
            "MSE 0.001246979\n"
          ]
        }
      ]
    },
    {
      "cell_type": "markdown",
      "source": [
        "# **SARIMA 모델로 미래 출생아수 예측하기**"
      ],
      "metadata": {
        "id": "MZ82BKntJII5"
      }
    },
    {
      "cell_type": "code",
      "source": [
        "pred_uc = mod_fit.get_forecast(steps=141)"
      ],
      "metadata": {
        "id": "vsyZQP5CkCY0"
      },
      "execution_count": null,
      "outputs": []
    },
    {
      "cell_type": "code",
      "source": [
        "pred_uc = np.exp(pred_uc.predicted_mean)\n",
        "pred_uc"
      ],
      "metadata": {
        "id": "50BM-F4xkCZC"
      },
      "execution_count": null,
      "outputs": []
    },
    {
      "cell_type": "code",
      "source": [
        "# 예측 결과와 신뢰 구간 얻기\n",
        "forecast = mod_fit.get_forecast(steps=140)\n",
        "predicted_mean = forecast.predicted_mean\n",
        "predicted_mean = np.exp(predicted_mean)\n",
        "\n",
        "confidence_intervals = forecast.conf_int()\n",
        "confidence_intervals = np.exp(confidence_intervals)\n",
        "\n",
        "# 그래프\n",
        "ax = baby.plot(label='observed', figsize=(14, 7))\n",
        "predicted_mean.plot(ax=ax, label='Forecasted Mean')\n",
        "ax.fill_between(confidence_intervals.index,\n",
        "                 confidence_intervals.iloc[:, 0],\n",
        "                 confidence_intervals.iloc[:, 1],\n",
        "                 color='k', alpha=.25, label='95% Confidence Interval')\n",
        "\n",
        "plt.legend()\n",
        "plt.show()"
      ],
      "metadata": {
        "colab": {
          "base_uri": "https://localhost:8080/",
          "height": 613
        },
        "outputId": "99f6b135-a3e4-4647-d77a-0a1846b2c5e1",
        "id": "JaisuSUXkCZD"
      },
      "execution_count": null,
      "outputs": [
        {
          "output_type": "display_data",
          "data": {
            "text/plain": [
              "<Figure size 1400x700 with 1 Axes>"
            ],
            "image/png": "[encoded data removed]"
          },
          "metadata": {}
        }
      ]
    }
  ]
}